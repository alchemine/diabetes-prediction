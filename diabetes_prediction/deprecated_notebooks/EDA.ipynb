{
 "cells": [
  {
   "cell_type": "markdown",
   "id": "c95fad2a",
   "metadata": {},
   "source": [
    "# Load Libraries"
   ]
  },
  {
   "cell_type": "code",
   "execution_count": 1,
   "id": "0f333f97",
   "metadata": {},
   "outputs": [],
   "source": [
    "%load_ext autoreload\n",
    "%autoreload 2"
   ]
  },
  {
   "cell_type": "code",
   "execution_count": 2,
   "id": "84027331",
   "metadata": {},
   "outputs": [],
   "source": [
    "import sys\n",
    "sys.path.append(\"..\")\n",
    "\n",
    "from diabetes_prediction.utils.data.dataloader import *\n",
    "from diabetes_prediction.utils.data.preprocessing import *"
   ]
  },
  {
   "cell_type": "markdown",
   "id": "4e987436",
   "metadata": {},
   "source": [
    "# Load Data"
   ]
  },
  {
   "cell_type": "code",
   "execution_count": 3,
   "id": "a1a3b009",
   "metadata": {},
   "outputs": [
    {
     "name": "stdout",
     "output_type": "stream",
     "text": [
      "* preprocess_meta_data         | 0.00s (0.00m)\n",
      "* preprocess_meta_data         | 0.00s (0.00m)\n",
      "* preprocess_meta_data         | 0.01s (0.00m)\n"
     ]
    }
   ],
   "source": [
    "metas, datas = load_dataset()"
   ]
  },
  {
   "cell_type": "markdown",
   "id": "5200d17f",
   "metadata": {},
   "source": [
    "# Sample adult"
   ]
  },
  {
   "cell_type": "code",
   "execution_count": 4,
   "id": "f9f1e4af",
   "metadata": {},
   "outputs": [
    {
     "name": "stdout",
     "output_type": "stream",
     "text": [
      "* replace_ambiguous_options    | 1.33s (0.02m)\n",
      "* impute_data                  | 0.35s (0.01m)\n",
      "* set_dtypes                   | 1.61s (0.03m)\n",
      "* impute_numerical_features    | 0.10s (0.00m)\n",
      "* extract_family_id            | 0.00s (0.00m)\n",
      "* extract_features             | 0.00s (0.00m)\n",
      "* drop_columns                 | 0.10s (0.00m)\n",
      "* manual_handling_sample_adult | 0.05s (0.00m)\n",
      "* drop_diabetes_columns        | 0.02s (0.00m)\n"
     ]
    }
   ],
   "source": [
    "data_id = 'family'\n",
    "meta, data = metas[data_id], datas[data_id]\n",
    "final_data = preprocess_data(data, meta)\n",
    "final_data.to_feather(PATH.family_final_data)"
   ]
  },
  {
   "cell_type": "code",
   "execution_count": 5,
   "id": "8b3df3bc",
   "metadata": {},
   "outputs": [
    {
     "name": "stdout",
     "output_type": "stream",
     "text": [
      "* replace_ambiguous_options    | 6.53s (0.11m)\n",
      "* impute_data                  | 2.10s (0.03m)\n",
      "* set_dtypes                   | 9.64s (0.16m)\n",
      "* impute_numerical_features    | 0.88s (0.01m)\n",
      "* extract_family_id            | 0.00s (0.00m)\n",
      "* extract_label                | 0.00s (0.00m)\n",
      "* extract_features             | 0.01s (0.00m)\n",
      "* drop_columns                 | 0.55s (0.01m)\n",
      "* manual_handling_sample_adult | 0.30s (0.00m)\n",
      "* drop_diabetes_columns        | 0.11s (0.00m)\n"
     ]
    }
   ],
   "source": [
    "data_id = 'sample_adult'\n",
    "meta, data = metas[data_id], datas[data_id]\n",
    "final_data = preprocess_data(data, meta, target='DIBEV1')\n",
    "final_data.to_feather(PATH.sample_adult_final_data)"
   ]
  },
  {
   "cell_type": "code",
   "execution_count": 6,
   "id": "a407ccca",
   "metadata": {},
   "outputs": [
    {
     "name": "stdout",
     "output_type": "stream",
     "text": [
      "* replace_ambiguous_options    | 0.59s (0.01m)\n",
      "* impute_data                  | 0.29s (0.00m)\n",
      "* set_dtypes                   | 1.91s (0.03m)\n",
      "* impute_numerical_features    | 0.03s (0.00m)\n",
      "* extract_family_id            | 0.00s (0.00m)\n",
      "* extract_features             | 0.00s (0.00m)\n",
      "* drop_columns                 | 0.06s (0.00m)\n",
      "* manual_handling_sample_adult | 0.06s (0.00m)\n",
      "* drop_diabetes_columns        | 0.01s (0.00m)\n"
     ]
    }
   ],
   "source": [
    "data_id = 'sample_child'\n",
    "meta, data = metas[data_id], datas[data_id]\n",
    "final_data = preprocess_data(data, meta)\n",
    "final_data.to_feather(PATH.sample_child_final_data)"
   ]
  },
  {
   "cell_type": "markdown",
   "id": "1e2024cc",
   "metadata": {},
   "source": [
    "---"
   ]
  },
  {
   "cell_type": "code",
   "execution_count": null,
   "id": "570a54e4",
   "metadata": {},
   "outputs": [],
   "source": [
    "set_dtypes(data, meta)"
   ]
  },
  {
   "cell_type": "code",
   "execution_count": null,
   "id": "7a769ed4",
   "metadata": {},
   "outputs": [],
   "source": [
    "data_num = data.select_dtypes('number')\n",
    "data_cat = data.select_dtypes('object')"
   ]
  },
  {
   "cell_type": "code",
   "execution_count": null,
   "id": "69807033",
   "metadata": {},
   "outputs": [],
   "source": [
    "len(data_num.columns), len(data_cat.columns)"
   ]
  },
  {
   "cell_type": "code",
   "execution_count": null,
   "id": "0c43aebd",
   "metadata": {
    "scrolled": false
   },
   "outputs": [],
   "source": [
    "meta[meta['final_id'].isin(data_cat.columns)]"
   ]
  },
  {
   "cell_type": "markdown",
   "id": "d8ef0452",
   "metadata": {},
   "source": [
    "# Target"
   ]
  },
  {
   "cell_type": "code",
   "execution_count": null,
   "id": "2c8d4271",
   "metadata": {},
   "outputs": [],
   "source": [
    "target = 'DIBEV1'"
   ]
  },
  {
   "cell_type": "code",
   "execution_count": null,
   "id": "a834c55c",
   "metadata": {},
   "outputs": [],
   "source": [
    "data_num = data.select_dtypes('number')\n",
    "\n",
    "n_features, n_features_sample = len(data_num.columns), 5\n",
    "n_rows,     n_samples         = len(data_num),         10000\n",
    "\n",
    "cols    = np.random.choice(data_num.columns, n_features_sample)\n",
    "sample  = data_num.sample(n_samples)[cols]\n",
    "df_desc = meta[meta['final_id'].isin(cols)].drop(columns='question_id')\n",
    "\n",
    "title = f\"Numerical Features (sampling: {n_features_sample} features from {n_features} features, {n_samples} rows from {n_rows} rows)\"\n",
    "fig, axes = plt.subplots(1, n_features_sample, figsize=PARAMS.figsize)\n",
    "for idx, ax in enumerate(axes.flat):\n",
    "    col = df_desc['final_id'].values[idx]\n",
    "    sns.histplot(sample[col], kde=True, bins=100, ax=ax)\n",
    "    if ax != axes.flat[0]:\n",
    "        ax.set_ylabel(None)\n",
    "fig.suptitle(title, fontsize=15)\n",
    "fig.tight_layout()"
   ]
  },
  {
   "cell_type": "code",
   "execution_count": null,
   "id": "2ecb5627",
   "metadata": {},
   "outputs": [],
   "source": [
    "meta[meta['final_id'].isin(cols)].drop(columns='question_id')"
   ]
  },
  {
   "cell_type": "code",
   "execution_count": null,
   "id": "eaf12cb5",
   "metadata": {},
   "outputs": [],
   "source": [
    "meta[meta['final_id'].isin(data_cat.columns)]"
   ]
  },
  {
   "cell_type": "markdown",
   "id": "f7e35c6d",
   "metadata": {},
   "source": [
    "---"
   ]
  },
  {
   "cell_type": "code",
   "execution_count": null,
   "id": "c9ccc85c",
   "metadata": {},
   "outputs": [],
   "source": [
    "data_cat = data.select_dtypes('object')\n",
    "\n",
    "n_features, n_features_sample = len(data_cat.columns), 5\n",
    "n_rows,     n_samples         = len(data_cat),         10000\n",
    "\n",
    "cols    = np.random.choice(data_cat.columns, n_features_sample)\n",
    "sample  = data_cat.sample(n_samples)[cols]\n",
    "df_desc = meta[meta['final_id'].isin(cols)].drop(columns='question_id')\n",
    "\n",
    "title = f\"Categorical Features (sampling: {n_features_sample} features from {n_features} features, {n_samples} rows from {n_rows} rows)\"\n",
    "fig, axes = plt.subplots(1, n_features_sample, figsize=PARAMS.figsize)\n",
    "for idx, ax in enumerate(axes.flat):\n",
    "    col = df_desc['final_id'].values[idx]\n",
    "    sns.countplot(data=sample, x=col, ax=ax)\n",
    "    if ax != axes.flat[0]:\n",
    "        ax.set_ylabel(None)\n",
    "fig.suptitle(title, fontsize=15)\n",
    "fig.tight_layout()"
   ]
  },
  {
   "cell_type": "markdown",
   "id": "84fd5af4",
   "metadata": {},
   "source": [
    "---"
   ]
  },
  {
   "cell_type": "code",
   "execution_count": null,
   "id": "46a05c31",
   "metadata": {},
   "outputs": [],
   "source": [
    "data_id = 'sample_adult'\n",
    "meta, data = metas[data_id], datas[data_id]"
   ]
  },
  {
   "cell_type": "code",
   "execution_count": null,
   "id": "a1a69791",
   "metadata": {},
   "outputs": [],
   "source": [
    "set_dtypes(data, meta)"
   ]
  },
  {
   "cell_type": "code",
   "execution_count": null,
   "id": "215f17d6",
   "metadata": {},
   "outputs": [],
   "source": [
    "data_num = data.select_dtypes('number')\n",
    "data_cat = data.select_dtypes('object')"
   ]
  },
  {
   "cell_type": "code",
   "execution_count": null,
   "id": "083d4d5e",
   "metadata": {
    "scrolled": false
   },
   "outputs": [],
   "source": [
    "meta[meta['final_id'].isin(data_cat.columns)]"
   ]
  }
 ],
 "metadata": {
  "kernelspec": {
   "display_name": "dp",
   "language": "python",
   "name": "dp"
  },
  "language_info": {
   "codemirror_mode": {
    "name": "ipython",
    "version": 3
   },
   "file_extension": ".py",
   "mimetype": "text/x-python",
   "name": "python",
   "nbconvert_exporter": "python",
   "pygments_lexer": "ipython3",
   "version": "3.9.18"
  }
 },
 "nbformat": 4,
 "nbformat_minor": 5
}
