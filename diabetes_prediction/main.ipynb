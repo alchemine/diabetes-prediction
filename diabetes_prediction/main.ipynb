{
 "cells": [
  {
   "cell_type": "code",
   "execution_count": 1,
   "id": "3c45464d",
   "metadata": {},
   "outputs": [],
   "source": [
    "%load_ext autoreload\n",
    "%autoreload 2\n",
    "\n",
    "import sys\n",
    "sys.path.append(\"..\")\n",
    "\n",
    "from diabetes_prediction.utils.data.dataloader import *\n",
    "from diabetes_prediction.utils.data.preprocessing import *"
   ]
  },
  {
   "cell_type": "code",
   "execution_count": 2,
   "id": "2a934a6f",
   "metadata": {},
   "outputs": [
    {
     "name": "stdout",
     "output_type": "stream",
     "text": [
      "* _get_summary                 | 0.57s (0.01m)\n",
      "* _get_layout                  | 1.39s (0.02m)\n",
      "* _merge_summary_layout        | 0.01s (0.00m)\n",
      "* load_metadata                | 1.99s (0.03m)\n",
      "* load_dataset                 | 2.16s (0.04m)\n",
      "* _get_summary                 | 0.33s (0.01m)\n",
      "* _get_layout                  | 6.50s (0.11m)\n",
      "* _merge_summary_layout        | 0.01s (0.00m)\n",
      "* load_metadata                | 6.87s (0.11m)\n",
      "* load_dataset                 | 7.74s (0.13m)\n",
      "* _get_summary                 | 0.09s (0.00m)\n",
      "* _get_layout                  | 1.32s (0.02m)\n",
      "* _merge_summary_layout        | 0.01s (0.00m)\n",
      "* load_metadata                | 1.43s (0.02m)\n",
      "* load_dataset                 | 1.49s (0.02m)\n"
     ]
    }
   ],
   "source": [
    "data_ids = ['family', 'sample_adult', 'sample_child']\n",
    "\n",
    "metadatas, datas = {}, {}\n",
    "for data_id in data_ids:\n",
    "    metadatas[data_id], datas[data_id] = load_dataset(data_id, overwrite=True)"
   ]
  },
  {
   "cell_type": "code",
   "execution_count": 3,
   "id": "86e4ec24",
   "metadata": {},
   "outputs": [
    {
     "name": "stdout",
     "output_type": "stream",
     "text": [
      "* extract_family_id            | 0.00s (0.00m)\n",
      "* extract_family_id            | 0.00s (0.00m)\n",
      "* merge_datas                  | 0.83s (0.01m)\n"
     ]
    }
   ],
   "source": [
    "merged_metadata, merged_data = merge_datas(metadatas, datas)"
   ]
  },
  {
   "cell_type": "code",
   "execution_count": 4,
   "id": "839a0203",
   "metadata": {},
   "outputs": [
    {
     "name": "stdout",
     "output_type": "stream",
     "text": [
      "Remove records with unknown label (762 records)\n",
      "* split_data                   | 0.70s (0.01m)\n"
     ]
    }
   ],
   "source": [
    "dataset = split_data(merged_data, drop_unknown=True)"
   ]
  },
  {
   "cell_type": "code",
   "execution_count": 5,
   "id": "cc8bce81",
   "metadata": {
    "scrolled": false
   },
   "outputs": [
    {
     "name": "stdout",
     "output_type": "stream",
     "text": [
      "* _replace_ambiguous_options   | 4.74s (0.08m)\n",
      "* _impute_data                 | 0.73s (0.01m)\n",
      "* _set_dtypes                  | 10.86s (0.18m)\n",
      "* _impute_numerical_features   | 0.57s (0.01m)\n",
      "* _drop_columns                | 0.57s (0.01m)\n",
      "* _manual_handling             | 0.33s (0.01m)\n",
      "* _drop_diabetes_columns       | 0.16s (0.00m)\n",
      "* fit_transform                | 17.96s (0.30m)\n",
      "* _replace_ambiguous_options   | 2.26s (0.04m)\n",
      "* _impute_data                 | 0.55s (0.01m)\n",
      "* _set_dtypes                  | 0.22s (0.00m)\n",
      "* _impute_numerical_features   | 0.35s (0.01m)\n",
      "* _drop_columns                | 0.16s (0.00m)\n",
      "* _manual_handling             | 0.32s (0.01m)\n",
      "* _drop_diabetes_columns       | 0.03s (0.00m)\n",
      "* transform                    | 3.89s (0.06m)\n",
      "* _replace_ambiguous_options   | 2.91s (0.05m)\n",
      "* _impute_data                 | 0.60s (0.01m)\n",
      "* _set_dtypes                  | 0.38s (0.01m)\n",
      "* _impute_numerical_features   | 0.39s (0.01m)\n",
      "* _drop_columns                | 0.41s (0.01m)\n",
      "* _manual_handling             | 0.32s (0.01m)\n",
      "* _drop_diabetes_columns       | 0.19s (0.00m)\n",
      "* transform                    | 5.20s (0.09m)\n"
     ]
    }
   ],
   "source": [
    "dataset_proc = preprocess_dataset(merged_metadata, dataset)"
   ]
  }
 ],
 "metadata": {
  "kernelspec": {
   "display_name": "Python 3 (ipykernel)",
   "language": "python",
   "name": "python3"
  },
  "language_info": {
   "codemirror_mode": {
    "name": "ipython",
    "version": 3
   },
   "file_extension": ".py",
   "mimetype": "text/x-python",
   "name": "python",
   "nbconvert_exporter": "python",
   "pygments_lexer": "ipython3",
   "version": "3.9.18"
  }
 },
 "nbformat": 4,
 "nbformat_minor": 5
}
